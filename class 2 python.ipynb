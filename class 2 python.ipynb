{
 "cells": [
  {
   "cell_type": "code",
   "execution_count": 1,
   "id": "339bb2ee",
   "metadata": {},
   "outputs": [],
   "source": [
    "s=\"sudh\""
   ]
  },
  {
   "cell_type": "code",
   "execution_count": 2,
   "id": "8b240838",
   "metadata": {},
   "outputs": [
    {
     "data": {
      "text/plain": [
       "str"
      ]
     },
     "execution_count": 2,
     "metadata": {},
     "output_type": "execute_result"
    }
   ],
   "source": [
    "type(s)"
   ]
  },
  {
   "cell_type": "code",
   "execution_count": 3,
   "id": "f53a606a",
   "metadata": {},
   "outputs": [
    {
     "data": {
      "text/plain": [
       "'u'"
      ]
     },
     "execution_count": 3,
     "metadata": {},
     "output_type": "execute_result"
    }
   ],
   "source": [
    "s[1]"
   ]
  },
  {
   "cell_type": "code",
   "execution_count": 4,
   "id": "61ff6898",
   "metadata": {},
   "outputs": [
    {
     "data": {
      "text/plain": [
       "'s'"
      ]
     },
     "execution_count": 4,
     "metadata": {},
     "output_type": "execute_result"
    }
   ],
   "source": [
    "s[0]"
   ]
  },
  {
   "cell_type": "code",
   "execution_count": 5,
   "id": "6debca50",
   "metadata": {},
   "outputs": [
    {
     "data": {
      "text/plain": [
       "'d'"
      ]
     },
     "execution_count": 5,
     "metadata": {},
     "output_type": "execute_result"
    }
   ],
   "source": [
    "s[2]"
   ]
  },
  {
   "cell_type": "code",
   "execution_count": 6,
   "id": "8565f6ba",
   "metadata": {},
   "outputs": [
    {
     "data": {
      "text/plain": [
       "'h'"
      ]
     },
     "execution_count": 6,
     "metadata": {},
     "output_type": "execute_result"
    }
   ],
   "source": [
    "s[3]"
   ]
  },
  {
   "cell_type": "code",
   "execution_count": 7,
   "id": "c8e1e975",
   "metadata": {},
   "outputs": [
    {
     "data": {
      "text/plain": [
       "'h'"
      ]
     },
     "execution_count": 7,
     "metadata": {},
     "output_type": "execute_result"
    }
   ],
   "source": [
    "s[-1]"
   ]
  },
  {
   "cell_type": "code",
   "execution_count": 8,
   "id": "544eedd7",
   "metadata": {},
   "outputs": [
    {
     "data": {
      "text/plain": [
       "'d'"
      ]
     },
     "execution_count": 8,
     "metadata": {},
     "output_type": "execute_result"
    }
   ],
   "source": [
    "s[-2]"
   ]
  },
  {
   "cell_type": "code",
   "execution_count": 9,
   "id": "7aef630e",
   "metadata": {},
   "outputs": [
    {
     "data": {
      "text/plain": [
       "'u'"
      ]
     },
     "execution_count": 9,
     "metadata": {},
     "output_type": "execute_result"
    }
   ],
   "source": [
    "s[-3]"
   ]
  },
  {
   "cell_type": "code",
   "execution_count": 10,
   "id": "269167d0",
   "metadata": {},
   "outputs": [
    {
     "data": {
      "text/plain": [
       "'s'"
      ]
     },
     "execution_count": 10,
     "metadata": {},
     "output_type": "execute_result"
    }
   ],
   "source": [
    "s[-4]"
   ]
  },
  {
   "cell_type": "code",
   "execution_count": 11,
   "id": "01266c65",
   "metadata": {},
   "outputs": [],
   "source": [
    "a=\"my name is sudh\""
   ]
  },
  {
   "cell_type": "code",
   "execution_count": 12,
   "id": "eb275558",
   "metadata": {},
   "outputs": [
    {
     "data": {
      "text/plain": [
       "'h'"
      ]
     },
     "execution_count": 12,
     "metadata": {},
     "output_type": "execute_result"
    }
   ],
   "source": [
    "a[-1]"
   ]
  },
  {
   "cell_type": "code",
   "execution_count": 13,
   "id": "4912ba3a",
   "metadata": {},
   "outputs": [
    {
     "data": {
      "text/plain": [
       "'y'"
      ]
     },
     "execution_count": 13,
     "metadata": {},
     "output_type": "execute_result"
    }
   ],
   "source": [
    "a[1]"
   ]
  },
  {
   "cell_type": "code",
   "execution_count": 14,
   "id": "a0d62be8",
   "metadata": {},
   "outputs": [
    {
     "data": {
      "text/plain": [
       "'m'"
      ]
     },
     "execution_count": 14,
     "metadata": {},
     "output_type": "execute_result"
    }
   ],
   "source": [
    "a[0]"
   ]
  },
  {
   "cell_type": "code",
   "execution_count": 16,
   "id": "8aa31694",
   "metadata": {},
   "outputs": [
    {
     "ename": "IndexError",
     "evalue": "string index out of range",
     "output_type": "error",
     "traceback": [
      "\u001b[1;31m---------------------------------------------------------------------------\u001b[0m",
      "\u001b[1;31mIndexError\u001b[0m                                Traceback (most recent call last)",
      "Input \u001b[1;32mIn [16]\u001b[0m, in \u001b[0;36m<cell line: 1>\u001b[1;34m()\u001b[0m\n\u001b[1;32m----> 1\u001b[0m \u001b[43ma\u001b[49m\u001b[43m[\u001b[49m\u001b[38;5;241;43m100\u001b[39;49m\u001b[43m]\u001b[49m\n",
      "\u001b[1;31mIndexError\u001b[0m: string index out of range"
     ]
    }
   ],
   "source": [
    "a[100]"
   ]
  },
  {
   "cell_type": "code",
   "execution_count": 17,
   "id": "e10cbad0",
   "metadata": {},
   "outputs": [
    {
     "data": {
      "text/plain": [
       "'my name is'"
      ]
     },
     "execution_count": 17,
     "metadata": {},
     "output_type": "execute_result"
    }
   ],
   "source": [
    "a[0:10]"
   ]
  },
  {
   "cell_type": "code",
   "execution_count": 19,
   "id": "8df365c1",
   "metadata": {},
   "outputs": [
    {
     "data": {
      "text/plain": [
       "'my name is sudh'"
      ]
     },
     "execution_count": 19,
     "metadata": {},
     "output_type": "execute_result"
    }
   ],
   "source": [
    "a[0:100]"
   ]
  },
  {
   "cell_type": "code",
   "execution_count": 20,
   "id": "1c08841a",
   "metadata": {},
   "outputs": [],
   "source": [
    "b=\"ineuron\""
   ]
  },
  {
   "cell_type": "code",
   "execution_count": 21,
   "id": "4b31a8a0",
   "metadata": {},
   "outputs": [
    {
     "data": {
      "text/plain": [
       "'ine'"
      ]
     },
     "execution_count": 21,
     "metadata": {},
     "output_type": "execute_result"
    }
   ],
   "source": [
    "b[0:3]"
   ]
  },
  {
   "cell_type": "code",
   "execution_count": 22,
   "id": "c2ae2630",
   "metadata": {},
   "outputs": [
    {
     "data": {
      "text/plain": [
       "'ineuron'"
      ]
     },
     "execution_count": 22,
     "metadata": {},
     "output_type": "execute_result"
    }
   ],
   "source": [
    "b[0:300]"
   ]
  },
  {
   "cell_type": "code",
   "execution_count": 23,
   "id": "601bf1af",
   "metadata": {},
   "outputs": [
    {
     "ename": "IndexError",
     "evalue": "string index out of range",
     "output_type": "error",
     "traceback": [
      "\u001b[1;31m---------------------------------------------------------------------------\u001b[0m",
      "\u001b[1;31mIndexError\u001b[0m                                Traceback (most recent call last)",
      "Input \u001b[1;32mIn [23]\u001b[0m, in \u001b[0;36m<cell line: 1>\u001b[1;34m()\u001b[0m\n\u001b[1;32m----> 1\u001b[0m \u001b[43mb\u001b[49m\u001b[43m[\u001b[49m\u001b[38;5;241;43m300\u001b[39;49m\u001b[43m]\u001b[49m\n",
      "\u001b[1;31mIndexError\u001b[0m: string index out of range"
     ]
    }
   ],
   "source": [
    "b[300]"
   ]
  },
  {
   "cell_type": "code",
   "execution_count": 24,
   "id": "b06e186c",
   "metadata": {},
   "outputs": [
    {
     "data": {
      "text/plain": [
       "'n'"
      ]
     },
     "execution_count": 24,
     "metadata": {},
     "output_type": "execute_result"
    }
   ],
   "source": [
    "b[-1]"
   ]
  },
  {
   "cell_type": "code",
   "execution_count": 25,
   "id": "310f9147",
   "metadata": {},
   "outputs": [
    {
     "ename": "IndexError",
     "evalue": "string index out of range",
     "output_type": "error",
     "traceback": [
      "\u001b[1;31m---------------------------------------------------------------------------\u001b[0m",
      "\u001b[1;31mIndexError\u001b[0m                                Traceback (most recent call last)",
      "Input \u001b[1;32mIn [25]\u001b[0m, in \u001b[0;36m<cell line: 1>\u001b[1;34m()\u001b[0m\n\u001b[1;32m----> 1\u001b[0m \u001b[43mb\u001b[49m\u001b[43m[\u001b[49m\u001b[38;5;241;43m-\u001b[39;49m\u001b[38;5;241;43m100\u001b[39;49m\u001b[43m]\u001b[49m\n",
      "\u001b[1;31mIndexError\u001b[0m: string index out of range"
     ]
    }
   ],
   "source": [
    "b[-100]"
   ]
  },
  {
   "cell_type": "code",
   "execution_count": 26,
   "id": "70e00cdc",
   "metadata": {},
   "outputs": [
    {
     "data": {
      "text/plain": [
       "''"
      ]
     },
     "execution_count": 26,
     "metadata": {},
     "output_type": "execute_result"
    }
   ],
   "source": [
    "b[-1:-4]"
   ]
  },
  {
   "cell_type": "code",
   "execution_count": 27,
   "id": "4575ad93",
   "metadata": {},
   "outputs": [
    {
     "data": {
      "text/plain": [
       "'ineu'"
      ]
     },
     "execution_count": 27,
     "metadata": {},
     "output_type": "execute_result"
    }
   ],
   "source": [
    "b[0:4]"
   ]
  },
  {
   "cell_type": "code",
   "execution_count": 28,
   "id": "3cc45e81",
   "metadata": {},
   "outputs": [],
   "source": [
    "a=\"kumar\""
   ]
  },
  {
   "cell_type": "code",
   "execution_count": 29,
   "id": "7df70eaa",
   "metadata": {},
   "outputs": [
    {
     "data": {
      "text/plain": [
       "'kum'"
      ]
     },
     "execution_count": 29,
     "metadata": {},
     "output_type": "execute_result"
    }
   ],
   "source": [
    "a[0:3]"
   ]
  },
  {
   "cell_type": "code",
   "execution_count": 30,
   "id": "7eabff85",
   "metadata": {},
   "outputs": [
    {
     "data": {
      "text/plain": [
       "'kumar'"
      ]
     },
     "execution_count": 30,
     "metadata": {},
     "output_type": "execute_result"
    }
   ],
   "source": [
    "a[0:300]"
   ]
  },
  {
   "cell_type": "code",
   "execution_count": 31,
   "id": "188270ea",
   "metadata": {},
   "outputs": [
    {
     "data": {
      "text/plain": [
       "'kumar'"
      ]
     },
     "execution_count": 31,
     "metadata": {},
     "output_type": "execute_result"
    }
   ],
   "source": [
    "a[0:300:1]"
   ]
  },
  {
   "cell_type": "code",
   "execution_count": 32,
   "id": "85c6a891",
   "metadata": {},
   "outputs": [
    {
     "data": {
      "text/plain": [
       "'kmr'"
      ]
     },
     "execution_count": 32,
     "metadata": {},
     "output_type": "execute_result"
    }
   ],
   "source": [
    "a[0:300:2]"
   ]
  },
  {
   "cell_type": "code",
   "execution_count": 33,
   "id": "ee49ae10",
   "metadata": {},
   "outputs": [
    {
     "data": {
      "text/plain": [
       "'ka'"
      ]
     },
     "execution_count": 33,
     "metadata": {},
     "output_type": "execute_result"
    }
   ],
   "source": [
    "a[0:300:3]"
   ]
  },
  {
   "cell_type": "code",
   "execution_count": 34,
   "id": "2c9f1780",
   "metadata": {},
   "outputs": [
    {
     "data": {
      "text/plain": [
       "''"
      ]
     },
     "execution_count": 34,
     "metadata": {},
     "output_type": "execute_result"
    }
   ],
   "source": [
    "a[0:100:-1]"
   ]
  },
  {
   "cell_type": "code",
   "execution_count": 35,
   "id": "d7f5649e",
   "metadata": {},
   "outputs": [
    {
     "data": {
      "text/plain": [
       "'ramuk'"
      ]
     },
     "execution_count": 35,
     "metadata": {},
     "output_type": "execute_result"
    }
   ],
   "source": [
    "a[-1:-300:-1]"
   ]
  },
  {
   "cell_type": "code",
   "execution_count": 36,
   "id": "39a129e8",
   "metadata": {},
   "outputs": [
    {
     "data": {
      "text/plain": [
       "'rmk'"
      ]
     },
     "execution_count": 36,
     "metadata": {},
     "output_type": "execute_result"
    }
   ],
   "source": [
    "a[-1:-300:-2]"
   ]
  },
  {
   "cell_type": "code",
   "execution_count": 37,
   "id": "fb77eac9",
   "metadata": {},
   "outputs": [
    {
     "data": {
      "text/plain": [
       "'ru'"
      ]
     },
     "execution_count": 37,
     "metadata": {},
     "output_type": "execute_result"
    }
   ],
   "source": [
    "a[-1:-300:-3]"
   ]
  },
  {
   "cell_type": "code",
   "execution_count": 38,
   "id": "82b9b305",
   "metadata": {},
   "outputs": [
    {
     "data": {
      "text/plain": [
       "''"
      ]
     },
     "execution_count": 38,
     "metadata": {},
     "output_type": "execute_result"
    }
   ],
   "source": [
    "a[300:0]"
   ]
  },
  {
   "cell_type": "code",
   "execution_count": 39,
   "id": "9f896006",
   "metadata": {},
   "outputs": [
    {
     "data": {
      "text/plain": [
       "'ramu'"
      ]
     },
     "execution_count": 39,
     "metadata": {},
     "output_type": "execute_result"
    }
   ],
   "source": [
    "a[300:0:-1]"
   ]
  },
  {
   "cell_type": "code",
   "execution_count": 40,
   "id": "5b91444a",
   "metadata": {},
   "outputs": [
    {
     "data": {
      "text/plain": [
       "''"
      ]
     },
     "execution_count": 40,
     "metadata": {},
     "output_type": "execute_result"
    }
   ],
   "source": [
    "a[-1:-4]"
   ]
  },
  {
   "cell_type": "code",
   "execution_count": 41,
   "id": "fdead7f0",
   "metadata": {},
   "outputs": [
    {
     "data": {
      "text/plain": [
       "'ram'"
      ]
     },
     "execution_count": 41,
     "metadata": {},
     "output_type": "execute_result"
    }
   ],
   "source": [
    "a[-1:-4:-1]"
   ]
  },
  {
   "cell_type": "code",
   "execution_count": 43,
   "id": "2764ffef",
   "metadata": {},
   "outputs": [
    {
     "ename": "ValueError",
     "evalue": "slice step cannot be zero",
     "output_type": "error",
     "traceback": [
      "\u001b[1;31m---------------------------------------------------------------------------\u001b[0m",
      "\u001b[1;31mValueError\u001b[0m                                Traceback (most recent call last)",
      "Input \u001b[1;32mIn [43]\u001b[0m, in \u001b[0;36m<cell line: 1>\u001b[1;34m()\u001b[0m\n\u001b[1;32m----> 1\u001b[0m \u001b[43ma\u001b[49m\u001b[43m[\u001b[49m\u001b[38;5;241;43m-\u001b[39;49m\u001b[38;5;241;43m1\u001b[39;49m\u001b[43m:\u001b[49m\u001b[38;5;241;43m-\u001b[39;49m\u001b[38;5;241;43m4\u001b[39;49m\u001b[43m:\u001b[49m\u001b[38;5;241;43m0\u001b[39;49m\u001b[43m]\u001b[49m\n",
      "\u001b[1;31mValueError\u001b[0m: slice step cannot be zero"
     ]
    }
   ],
   "source": [
    "a[-1:-4:0]"
   ]
  },
  {
   "cell_type": "code",
   "execution_count": 44,
   "id": "67cf37ec",
   "metadata": {},
   "outputs": [
    {
     "data": {
      "text/plain": [
       "'kumar'"
      ]
     },
     "execution_count": 44,
     "metadata": {},
     "output_type": "execute_result"
    }
   ],
   "source": [
    "a[::]"
   ]
  },
  {
   "cell_type": "code",
   "execution_count": 45,
   "id": "b700f574",
   "metadata": {},
   "outputs": [
    {
     "data": {
      "text/plain": [
       "'kumar'"
      ]
     },
     "execution_count": 45,
     "metadata": {},
     "output_type": "execute_result"
    }
   ],
   "source": [
    "a[:]"
   ]
  },
  {
   "cell_type": "code",
   "execution_count": 46,
   "id": "ba192170",
   "metadata": {},
   "outputs": [
    {
     "data": {
      "text/plain": [
       "'kumar'"
      ]
     },
     "execution_count": 46,
     "metadata": {},
     "output_type": "execute_result"
    }
   ],
   "source": [
    "a[:8]"
   ]
  },
  {
   "cell_type": "code",
   "execution_count": 47,
   "id": "0429cb07",
   "metadata": {},
   "outputs": [
    {
     "data": {
      "text/plain": [
       "'kumar'"
      ]
     },
     "execution_count": 47,
     "metadata": {},
     "output_type": "execute_result"
    }
   ],
   "source": [
    "a[0:]"
   ]
  },
  {
   "cell_type": "code",
   "execution_count": 48,
   "id": "17cc7769",
   "metadata": {},
   "outputs": [
    {
     "data": {
      "text/plain": [
       "'ar'"
      ]
     },
     "execution_count": 48,
     "metadata": {},
     "output_type": "execute_result"
    }
   ],
   "source": [
    "a[-2:]"
   ]
  },
  {
   "cell_type": "code",
   "execution_count": 49,
   "id": "d1447d82",
   "metadata": {},
   "outputs": [
    {
     "ename": "SyntaxError",
     "evalue": "unmatched ']' (4064260627.py, line 1)",
     "output_type": "error",
     "traceback": [
      "\u001b[1;36m  Input \u001b[1;32mIn [49]\u001b[1;36m\u001b[0m\n\u001b[1;33m    a-2:-1]\u001b[0m\n\u001b[1;37m          ^\u001b[0m\n\u001b[1;31mSyntaxError\u001b[0m\u001b[1;31m:\u001b[0m unmatched ']'\n"
     ]
    }
   ],
   "source": [
    "a-2:-1]"
   ]
  },
  {
   "cell_type": "code",
   "execution_count": 50,
   "id": "e8999f49",
   "metadata": {},
   "outputs": [
    {
     "data": {
      "text/plain": [
       "'a'"
      ]
     },
     "execution_count": 50,
     "metadata": {},
     "output_type": "execute_result"
    }
   ],
   "source": [
    "a[-2:-1]"
   ]
  },
  {
   "cell_type": "code",
   "execution_count": 51,
   "id": "f7fafbea",
   "metadata": {},
   "outputs": [
    {
     "data": {
      "text/plain": [
       "'kumar'"
      ]
     },
     "execution_count": 51,
     "metadata": {},
     "output_type": "execute_result"
    }
   ],
   "source": [
    "a"
   ]
  },
  {
   "cell_type": "code",
   "execution_count": 52,
   "id": "9d711636",
   "metadata": {},
   "outputs": [
    {
     "data": {
      "text/plain": [
       "'ramuk'"
      ]
     },
     "execution_count": 52,
     "metadata": {},
     "output_type": "execute_result"
    }
   ],
   "source": [
    "a[::-1]"
   ]
  },
  {
   "cell_type": "code",
   "execution_count": 53,
   "id": "6fbacae4",
   "metadata": {},
   "outputs": [
    {
     "data": {
      "text/plain": [
       "'ramuk'"
      ]
     },
     "execution_count": 53,
     "metadata": {},
     "output_type": "execute_result"
    }
   ],
   "source": [
    "a[-1::-1]"
   ]
  },
  {
   "cell_type": "code",
   "execution_count": 54,
   "id": "ce77a879",
   "metadata": {},
   "outputs": [],
   "source": [
    "a=\"i am working with Ineuron\""
   ]
  },
  {
   "cell_type": "code",
   "execution_count": 55,
   "id": "be92f5ba",
   "metadata": {},
   "outputs": [
    {
     "data": {
      "text/plain": [
       "'noruenI htiw gnikrow ma i'"
      ]
     },
     "execution_count": 55,
     "metadata": {},
     "output_type": "execute_result"
    }
   ],
   "source": [
    "a[::-1]"
   ]
  },
  {
   "cell_type": "code",
   "execution_count": 56,
   "id": "7deb2076",
   "metadata": {},
   "outputs": [
    {
     "data": {
      "text/plain": [
       "''"
      ]
     },
     "execution_count": 56,
     "metadata": {},
     "output_type": "execute_result"
    }
   ],
   "source": [
    "a[-5:5]"
   ]
  },
  {
   "cell_type": "code",
   "execution_count": 58,
   "id": "6bc6ccf2",
   "metadata": {},
   "outputs": [
    {
     "data": {
      "text/plain": [
       "'enI htiw gnikro'"
      ]
     },
     "execution_count": 58,
     "metadata": {},
     "output_type": "execute_result"
    }
   ],
   "source": [
    "a[-5:5:-1]"
   ]
  },
  {
   "cell_type": "code",
   "execution_count": 59,
   "id": "066d1d69",
   "metadata": {},
   "outputs": [
    {
     "data": {
      "text/plain": [
       "'oruenI h'"
      ]
     },
     "execution_count": 59,
     "metadata": {},
     "output_type": "execute_result"
    }
   ],
   "source": [
    "a[-2:-10:-1]"
   ]
  },
  {
   "cell_type": "code",
   "execution_count": 60,
   "id": "34af7342",
   "metadata": {},
   "outputs": [
    {
     "data": {
      "text/plain": [
       "'imoi tIun'"
      ]
     },
     "execution_count": 60,
     "metadata": {},
     "output_type": "execute_result"
    }
   ],
   "source": [
    "a[0:100:3]"
   ]
  },
  {
   "cell_type": "code",
   "execution_count": 61,
   "id": "a2f577f9",
   "metadata": {},
   "outputs": [
    {
     "data": {
      "text/plain": [
       "'sudhsudhsudh'"
      ]
     },
     "execution_count": 61,
     "metadata": {},
     "output_type": "execute_result"
    }
   ],
   "source": [
    "\"sudh\"*3"
   ]
  },
  {
   "cell_type": "code",
   "execution_count": 62,
   "id": "906b3074",
   "metadata": {},
   "outputs": [
    {
     "data": {
      "text/plain": [
       "'sudhkumar'"
      ]
     },
     "execution_count": 62,
     "metadata": {},
     "output_type": "execute_result"
    }
   ],
   "source": [
    "\"sudh\"+\"kumar\""
   ]
  },
  {
   "cell_type": "code",
   "execution_count": 63,
   "id": "26ae8cad",
   "metadata": {},
   "outputs": [
    {
     "data": {
      "text/plain": [
       "'sudhsudh'"
      ]
     },
     "execution_count": 63,
     "metadata": {},
     "output_type": "execute_result"
    }
   ],
   "source": [
    "\"sudh\"+\"sudh\""
   ]
  },
  {
   "cell_type": "code",
   "execution_count": 64,
   "id": "4266654f",
   "metadata": {},
   "outputs": [
    {
     "data": {
      "text/plain": [
       "'i am working with Ineuron'"
      ]
     },
     "execution_count": 64,
     "metadata": {},
     "output_type": "execute_result"
    }
   ],
   "source": [
    "a"
   ]
  },
  {
   "cell_type": "code",
   "execution_count": 65,
   "id": "4ffe8c08",
   "metadata": {},
   "outputs": [
    {
     "data": {
      "text/plain": [
       "25"
      ]
     },
     "execution_count": 65,
     "metadata": {},
     "output_type": "execute_result"
    }
   ],
   "source": [
    "len(a)"
   ]
  },
  {
   "cell_type": "code",
   "execution_count": 66,
   "id": "2dd25878",
   "metadata": {},
   "outputs": [
    {
     "ename": "TypeError",
     "evalue": "can't multiply sequence by non-int of type 'str'",
     "output_type": "error",
     "traceback": [
      "\u001b[1;31m---------------------------------------------------------------------------\u001b[0m",
      "\u001b[1;31mTypeError\u001b[0m                                 Traceback (most recent call last)",
      "Input \u001b[1;32mIn [66]\u001b[0m, in \u001b[0;36m<cell line: 1>\u001b[1;34m()\u001b[0m\n\u001b[1;32m----> 1\u001b[0m \u001b[38;5;124;43m\"\u001b[39;49m\u001b[38;5;124;43msudh\u001b[39;49m\u001b[38;5;124;43m\"\u001b[39;49m\u001b[38;5;241;43m*\u001b[39;49m\u001b[38;5;124;43m\"\u001b[39;49m\u001b[38;5;124;43msudh\u001b[39;49m\u001b[38;5;124;43m\"\u001b[39;49m\n",
      "\u001b[1;31mTypeError\u001b[0m: can't multiply sequence by non-int of type 'str'"
     ]
    }
   ],
   "source": [
    "\"sudh\"*\"sudh\""
   ]
  },
  {
   "cell_type": "code",
   "execution_count": 67,
   "id": "e4612257",
   "metadata": {},
   "outputs": [
    {
     "data": {
      "text/plain": [
       "0"
      ]
     },
     "execution_count": 67,
     "metadata": {},
     "output_type": "execute_result"
    }
   ],
   "source": [
    "a.find(a)"
   ]
  },
  {
   "cell_type": "code",
   "execution_count": 68,
   "id": "ffb8a6ba",
   "metadata": {},
   "outputs": [
    {
     "data": {
      "text/plain": [
       "'i am working with Ineuron'"
      ]
     },
     "execution_count": 68,
     "metadata": {},
     "output_type": "execute_result"
    }
   ],
   "source": [
    "a"
   ]
  },
  {
   "cell_type": "code",
   "execution_count": 69,
   "id": "e70ef44b",
   "metadata": {},
   "outputs": [
    {
     "data": {
      "text/plain": [
       "2"
      ]
     },
     "execution_count": 69,
     "metadata": {},
     "output_type": "execute_result"
    }
   ],
   "source": [
    "a.find('a')"
   ]
  },
  {
   "cell_type": "code",
   "execution_count": 71,
   "id": "d5ea92ef",
   "metadata": {},
   "outputs": [
    {
     "data": {
      "text/plain": [
       "-1"
      ]
     },
     "execution_count": 71,
     "metadata": {},
     "output_type": "execute_result"
    }
   ],
   "source": [
    "a.find(\"ia\")"
   ]
  },
  {
   "cell_type": "code",
   "execution_count": 72,
   "id": "73816c60",
   "metadata": {},
   "outputs": [
    {
     "data": {
      "text/plain": [
       "9"
      ]
     },
     "execution_count": 72,
     "metadata": {},
     "output_type": "execute_result"
    }
   ],
   "source": [
    "a.find(\"in\")"
   ]
  },
  {
   "cell_type": "code",
   "execution_count": 73,
   "id": "75578c3c",
   "metadata": {},
   "outputs": [
    {
     "data": {
      "text/plain": [
       "3"
      ]
     },
     "execution_count": 73,
     "metadata": {},
     "output_type": "execute_result"
    }
   ],
   "source": [
    "a.count(\"i\")"
   ]
  },
  {
   "cell_type": "code",
   "execution_count": 74,
   "id": "c288cb09",
   "metadata": {},
   "outputs": [
    {
     "data": {
      "text/plain": [
       "0"
      ]
     },
     "execution_count": 74,
     "metadata": {},
     "output_type": "execute_result"
    }
   ],
   "source": [
    "a.count('x')"
   ]
  },
  {
   "cell_type": "code",
   "execution_count": 77,
   "id": "a01c2e59",
   "metadata": {},
   "outputs": [],
   "source": [
    "l=(a.split())"
   ]
  },
  {
   "cell_type": "code",
   "execution_count": 78,
   "id": "931df766",
   "metadata": {},
   "outputs": [
    {
     "data": {
      "text/plain": [
       "['i', 'am', 'working', 'with', 'Ineuron']"
      ]
     },
     "execution_count": 78,
     "metadata": {},
     "output_type": "execute_result"
    }
   ],
   "source": [
    "l"
   ]
  },
  {
   "cell_type": "code",
   "execution_count": 79,
   "id": "dfd853c0",
   "metadata": {},
   "outputs": [
    {
     "ename": "AttributeError",
     "evalue": "'list' object has no attribute 'find'",
     "output_type": "error",
     "traceback": [
      "\u001b[1;31m---------------------------------------------------------------------------\u001b[0m",
      "\u001b[1;31mAttributeError\u001b[0m                            Traceback (most recent call last)",
      "Input \u001b[1;32mIn [79]\u001b[0m, in \u001b[0;36m<cell line: 1>\u001b[1;34m()\u001b[0m\n\u001b[1;32m----> 1\u001b[0m \u001b[43ml\u001b[49m\u001b[38;5;241;43m.\u001b[39;49m\u001b[43mfind\u001b[49m(\u001b[38;5;124m\"\u001b[39m\u001b[38;5;124mi\u001b[39m\u001b[38;5;124m\"\u001b[39m)\n",
      "\u001b[1;31mAttributeError\u001b[0m: 'list' object has no attribute 'find'"
     ]
    }
   ],
   "source": [
    "l.find(\"i\")"
   ]
  },
  {
   "cell_type": "code",
   "execution_count": 80,
   "id": "4c0676fe",
   "metadata": {},
   "outputs": [
    {
     "data": {
      "text/plain": [
       "'i'"
      ]
     },
     "execution_count": 80,
     "metadata": {},
     "output_type": "execute_result"
    }
   ],
   "source": [
    "l[0]"
   ]
  },
  {
   "cell_type": "code",
   "execution_count": 81,
   "id": "4d5c4b57",
   "metadata": {},
   "outputs": [
    {
     "data": {
      "text/plain": [
       "'am'"
      ]
     },
     "execution_count": 81,
     "metadata": {},
     "output_type": "execute_result"
    }
   ],
   "source": [
    "l[1]"
   ]
  },
  {
   "cell_type": "code",
   "execution_count": 82,
   "id": "bbe71913",
   "metadata": {},
   "outputs": [
    {
     "data": {
      "text/plain": [
       "'with'"
      ]
     },
     "execution_count": 82,
     "metadata": {},
     "output_type": "execute_result"
    }
   ],
   "source": [
    "l[3]"
   ]
  },
  {
   "cell_type": "code",
   "execution_count": 83,
   "id": "bff335b8",
   "metadata": {},
   "outputs": [
    {
     "data": {
      "text/plain": [
       "'Ineuron'"
      ]
     },
     "execution_count": 83,
     "metadata": {},
     "output_type": "execute_result"
    }
   ],
   "source": [
    "l[4]"
   ]
  },
  {
   "cell_type": "code",
   "execution_count": 84,
   "id": "050d3016",
   "metadata": {},
   "outputs": [
    {
     "ename": "IndexError",
     "evalue": "list index out of range",
     "output_type": "error",
     "traceback": [
      "\u001b[1;31m---------------------------------------------------------------------------\u001b[0m",
      "\u001b[1;31mIndexError\u001b[0m                                Traceback (most recent call last)",
      "Input \u001b[1;32mIn [84]\u001b[0m, in \u001b[0;36m<cell line: 1>\u001b[1;34m()\u001b[0m\n\u001b[1;32m----> 1\u001b[0m \u001b[43ml\u001b[49m\u001b[43m[\u001b[49m\u001b[38;5;241;43m5\u001b[39;49m\u001b[43m]\u001b[49m\n",
      "\u001b[1;31mIndexError\u001b[0m: list index out of range"
     ]
    }
   ],
   "source": [
    "l[5]"
   ]
  },
  {
   "cell_type": "code",
   "execution_count": 85,
   "id": "574ca208",
   "metadata": {},
   "outputs": [
    {
     "data": {
      "text/plain": [
       "['i', 'am', 'working']"
      ]
     },
     "execution_count": 85,
     "metadata": {},
     "output_type": "execute_result"
    }
   ],
   "source": [
    "l[0:3]"
   ]
  },
  {
   "cell_type": "code",
   "execution_count": 86,
   "id": "13d45ddf",
   "metadata": {},
   "outputs": [
    {
     "data": {
      "text/plain": [
       "['i am ', 'orking ', 'ith Ineuron']"
      ]
     },
     "execution_count": 86,
     "metadata": {},
     "output_type": "execute_result"
    }
   ],
   "source": [
    "a.split(\"w\")"
   ]
  },
  {
   "cell_type": "code",
   "execution_count": 87,
   "id": "24de02e4",
   "metadata": {},
   "outputs": [
    {
     "data": {
      "text/plain": [
       "['i am ', 'rking with Ineuron']"
      ]
     },
     "execution_count": 87,
     "metadata": {},
     "output_type": "execute_result"
    }
   ],
   "source": [
    "a.split(\"wo\")"
   ]
  },
  {
   "cell_type": "code",
   "execution_count": 88,
   "id": "a8f40869",
   "metadata": {},
   "outputs": [
    {
     "data": {
      "text/plain": [
       "'i am working with Ineuron'"
      ]
     },
     "execution_count": 88,
     "metadata": {},
     "output_type": "execute_result"
    }
   ],
   "source": [
    "a"
   ]
  },
  {
   "cell_type": "code",
   "execution_count": 89,
   "id": "17e14cd3",
   "metadata": {},
   "outputs": [
    {
     "data": {
      "text/plain": [
       "'I AM WORKING WITH INEURON'"
      ]
     },
     "execution_count": 89,
     "metadata": {},
     "output_type": "execute_result"
    }
   ],
   "source": [
    "a.upper()"
   ]
  },
  {
   "cell_type": "code",
   "execution_count": 91,
   "id": "ff5ad412",
   "metadata": {},
   "outputs": [
    {
     "data": {
      "text/plain": [
       "'i am working with ineuron'"
      ]
     },
     "execution_count": 91,
     "metadata": {},
     "output_type": "execute_result"
    }
   ],
   "source": [
    "a.lower()"
   ]
  },
  {
   "cell_type": "code",
   "execution_count": 93,
   "id": "e4c81c63",
   "metadata": {},
   "outputs": [],
   "source": [
    "s=\"sUdh\""
   ]
  },
  {
   "cell_type": "code",
   "execution_count": 94,
   "id": "d970d358",
   "metadata": {},
   "outputs": [
    {
     "data": {
      "text/plain": [
       "'sUdh'"
      ]
     },
     "execution_count": 94,
     "metadata": {},
     "output_type": "execute_result"
    }
   ],
   "source": [
    "s"
   ]
  },
  {
   "cell_type": "code",
   "execution_count": 96,
   "id": "acc7a67c",
   "metadata": {},
   "outputs": [
    {
     "data": {
      "text/plain": [
       "'SuDH'"
      ]
     },
     "execution_count": 96,
     "metadata": {},
     "output_type": "execute_result"
    }
   ],
   "source": [
    "s.swapcase()"
   ]
  },
  {
   "cell_type": "code",
   "execution_count": 97,
   "id": "aa64e826",
   "metadata": {},
   "outputs": [
    {
     "data": {
      "text/plain": [
       "'Sudh'"
      ]
     },
     "execution_count": 97,
     "metadata": {},
     "output_type": "execute_result"
    }
   ],
   "source": [
    "s.title()"
   ]
  },
  {
   "cell_type": "code",
   "execution_count": 98,
   "id": "c99ac3be",
   "metadata": {},
   "outputs": [
    {
     "data": {
      "text/plain": [
       "<function str.capitalize()>"
      ]
     },
     "execution_count": 98,
     "metadata": {},
     "output_type": "execute_result"
    }
   ],
   "source": [
    "s.capitalize"
   ]
  },
  {
   "cell_type": "code",
   "execution_count": 99,
   "id": "88fdafb6",
   "metadata": {},
   "outputs": [
    {
     "data": {
      "text/plain": [
       "'Sudh'"
      ]
     },
     "execution_count": 99,
     "metadata": {},
     "output_type": "execute_result"
    }
   ],
   "source": [
    "s.capitalize()"
   ]
  },
  {
   "cell_type": "code",
   "execution_count": 100,
   "id": "d987d672",
   "metadata": {},
   "outputs": [],
   "source": [
    "b=\"sudh\"\n",
    "c=\"ineuron\""
   ]
  },
  {
   "cell_type": "code",
   "execution_count": 101,
   "id": "edd31b89",
   "metadata": {},
   "outputs": [
    {
     "data": {
      "text/plain": [
       "'isudhnsudhesudhusudhrsudhosudhn'"
      ]
     },
     "execution_count": 101,
     "metadata": {},
     "output_type": "execute_result"
    }
   ],
   "source": [
    "b.join(c)"
   ]
  },
  {
   "cell_type": "code",
   "execution_count": 103,
   "id": "46d18328",
   "metadata": {},
   "outputs": [
    {
     "data": {
      "text/plain": [
       "'s u d h'"
      ]
     },
     "execution_count": 103,
     "metadata": {},
     "output_type": "execute_result"
    }
   ],
   "source": [
    "\" \".join(\"sudh\")"
   ]
  },
  {
   "cell_type": "raw",
   "id": "0f1a0431",
   "metadata": {},
   "source": []
  },
  {
   "cell_type": "code",
   "execution_count": 104,
   "id": "c175961c",
   "metadata": {},
   "outputs": [],
   "source": [
    "s=\" sudh \""
   ]
  },
  {
   "cell_type": "code",
   "execution_count": 106,
   "id": "5dbfa3b3",
   "metadata": {},
   "outputs": [
    {
     "data": {
      "text/plain": [
       "['sudh']"
      ]
     },
     "execution_count": 106,
     "metadata": {},
     "output_type": "execute_result"
    }
   ],
   "source": [
    "s.rsplit()"
   ]
  },
  {
   "cell_type": "code",
   "execution_count": 107,
   "id": "749fe84f",
   "metadata": {},
   "outputs": [
    {
     "data": {
      "text/plain": [
       "'sudh '"
      ]
     },
     "execution_count": 107,
     "metadata": {},
     "output_type": "execute_result"
    }
   ],
   "source": [
    "s.lstrip()"
   ]
  },
  {
   "cell_type": "code",
   "execution_count": 109,
   "id": "4e8bab2c",
   "metadata": {},
   "outputs": [
    {
     "data": {
      "text/plain": [
       "' sudh'"
      ]
     },
     "execution_count": 109,
     "metadata": {},
     "output_type": "execute_result"
    }
   ],
   "source": [
    "s.rstrip()"
   ]
  },
  {
   "cell_type": "code",
   "execution_count": 110,
   "id": "2f794e0f",
   "metadata": {},
   "outputs": [
    {
     "data": {
      "text/plain": [
       "'sudh'"
      ]
     },
     "execution_count": 110,
     "metadata": {},
     "output_type": "execute_result"
    }
   ],
   "source": [
    "s.strip()"
   ]
  },
  {
   "cell_type": "code",
   "execution_count": 111,
   "id": "60f16fa6",
   "metadata": {},
   "outputs": [],
   "source": [
    "s=\"sudh\""
   ]
  },
  {
   "cell_type": "code",
   "execution_count": 117,
   "id": "ddf0e07b",
   "metadata": {},
   "outputs": [
    {
     "data": {
      "text/plain": [
       "'sudh'"
      ]
     },
     "execution_count": 117,
     "metadata": {},
     "output_type": "execute_result"
    }
   ],
   "source": [
    "s.replace(\"t\", \"syz\")"
   ]
  },
  {
   "cell_type": "code",
   "execution_count": 118,
   "id": "3056a487",
   "metadata": {},
   "outputs": [
    {
     "data": {
      "text/plain": [
       "'sudh    kmur'"
      ]
     },
     "execution_count": 118,
     "metadata": {},
     "output_type": "execute_result"
    }
   ],
   "source": [
    "\"sudh\\tkmur\".expandtabs()"
   ]
  },
  {
   "cell_type": "code",
   "execution_count": 119,
   "id": "e81efa88",
   "metadata": {},
   "outputs": [],
   "source": [
    "s=\"sudh\""
   ]
  },
  {
   "cell_type": "code",
   "execution_count": 121,
   "id": "938444d5",
   "metadata": {},
   "outputs": [
    {
     "data": {
      "text/plain": [
       "'##################sudh##################'"
      ]
     },
     "execution_count": 121,
     "metadata": {},
     "output_type": "execute_result"
    }
   ],
   "source": [
    "s.center(40, \"#\")"
   ]
  },
  {
   "cell_type": "code",
   "execution_count": 122,
   "id": "ce54149a",
   "metadata": {},
   "outputs": [],
   "source": [
    "s=\"sudh\""
   ]
  },
  {
   "cell_type": "code",
   "execution_count": 123,
   "id": "5431ee3c",
   "metadata": {},
   "outputs": [
    {
     "data": {
      "text/plain": [
       "False"
      ]
     },
     "execution_count": 123,
     "metadata": {},
     "output_type": "execute_result"
    }
   ],
   "source": [
    "s.isupper()"
   ]
  },
  {
   "cell_type": "code",
   "execution_count": 124,
   "id": "1ee2b1a4",
   "metadata": {},
   "outputs": [
    {
     "data": {
      "text/plain": [
       "True"
      ]
     },
     "execution_count": 124,
     "metadata": {},
     "output_type": "execute_result"
    }
   ],
   "source": [
    "s.islower()"
   ]
  },
  {
   "cell_type": "code",
   "execution_count": 126,
   "id": "5758c0b6",
   "metadata": {},
   "outputs": [],
   "source": [
    "s=\"SUDH\""
   ]
  },
  {
   "cell_type": "code",
   "execution_count": 127,
   "id": "e47b7557",
   "metadata": {},
   "outputs": [
    {
     "data": {
      "text/plain": [
       "True"
      ]
     },
     "execution_count": 127,
     "metadata": {},
     "output_type": "execute_result"
    }
   ],
   "source": [
    "s.isupper()"
   ]
  },
  {
   "cell_type": "code",
   "execution_count": 129,
   "id": "623d916a",
   "metadata": {},
   "outputs": [
    {
     "data": {
      "text/plain": [
       "False"
      ]
     },
     "execution_count": 129,
     "metadata": {},
     "output_type": "execute_result"
    }
   ],
   "source": [
    "s.islower()"
   ]
  },
  {
   "cell_type": "code",
   "execution_count": 131,
   "id": "44f78fa7",
   "metadata": {},
   "outputs": [
    {
     "data": {
      "text/plain": [
       "False"
      ]
     },
     "execution_count": 131,
     "metadata": {},
     "output_type": "execute_result"
    }
   ],
   "source": [
    "s.isspace()"
   ]
  },
  {
   "cell_type": "code",
   "execution_count": 132,
   "id": "460f7f34",
   "metadata": {},
   "outputs": [],
   "source": [
    "s=\"    Sudh\""
   ]
  },
  {
   "cell_type": "code",
   "execution_count": 133,
   "id": "c37e89cf",
   "metadata": {},
   "outputs": [
    {
     "data": {
      "text/plain": [
       "False"
      ]
     },
     "execution_count": 133,
     "metadata": {},
     "output_type": "execute_result"
    }
   ],
   "source": [
    "s.isspace()"
   ]
  },
  {
   "cell_type": "code",
   "execution_count": 134,
   "id": "2b17b63a",
   "metadata": {},
   "outputs": [],
   "source": [
    "s=\"   \""
   ]
  },
  {
   "cell_type": "code",
   "execution_count": 136,
   "id": "acd39cee",
   "metadata": {},
   "outputs": [
    {
     "data": {
      "text/plain": [
       "True"
      ]
     },
     "execution_count": 136,
     "metadata": {},
     "output_type": "execute_result"
    }
   ],
   "source": [
    "s.isspace()"
   ]
  },
  {
   "cell_type": "code",
   "execution_count": 137,
   "id": "cb6088b3",
   "metadata": {},
   "outputs": [
    {
     "data": {
      "text/plain": [
       "False"
      ]
     },
     "execution_count": 137,
     "metadata": {},
     "output_type": "execute_result"
    }
   ],
   "source": [
    "s.isdigit()"
   ]
  },
  {
   "cell_type": "code",
   "execution_count": 139,
   "id": "dfaa7d1b",
   "metadata": {},
   "outputs": [],
   "source": [
    "s=\"45344\""
   ]
  },
  {
   "cell_type": "code",
   "execution_count": 140,
   "id": "12a5cf75",
   "metadata": {},
   "outputs": [
    {
     "data": {
      "text/plain": [
       "True"
      ]
     },
     "execution_count": 140,
     "metadata": {},
     "output_type": "execute_result"
    }
   ],
   "source": [
    "s.isdigit()"
   ]
  },
  {
   "cell_type": "code",
   "execution_count": 141,
   "id": "0a2d0b36",
   "metadata": {},
   "outputs": [
    {
     "data": {
      "text/plain": [
       "True"
      ]
     },
     "execution_count": 141,
     "metadata": {},
     "output_type": "execute_result"
    }
   ],
   "source": [
    "s.endswith(\"4\")"
   ]
  },
  {
   "cell_type": "code",
   "execution_count": 142,
   "id": "8f43a3f6",
   "metadata": {},
   "outputs": [
    {
     "data": {
      "text/plain": [
       "False"
      ]
     },
     "execution_count": 142,
     "metadata": {},
     "output_type": "execute_result"
    }
   ],
   "source": [
    "s.endswith(\"h\")"
   ]
  },
  {
   "cell_type": "code",
   "execution_count": 143,
   "id": "83b0aa9b",
   "metadata": {},
   "outputs": [],
   "source": [
    "s=\"sudh\""
   ]
  },
  {
   "cell_type": "code",
   "execution_count": 144,
   "id": "f05716d7",
   "metadata": {},
   "outputs": [
    {
     "data": {
      "text/plain": [
       "True"
      ]
     },
     "execution_count": 144,
     "metadata": {},
     "output_type": "execute_result"
    }
   ],
   "source": [
    "s.startswith(s)"
   ]
  },
  {
   "cell_type": "code",
   "execution_count": 146,
   "id": "cd2430e8",
   "metadata": {},
   "outputs": [
    {
     "data": {
      "text/plain": [
       "False"
      ]
     },
     "execution_count": 146,
     "metadata": {},
     "output_type": "execute_result"
    }
   ],
   "source": [
    "s.startswith(\"t\")"
   ]
  },
  {
   "cell_type": "code",
   "execution_count": 147,
   "id": "7375ea93",
   "metadata": {},
   "outputs": [
    {
     "data": {
      "text/plain": [
       "False"
      ]
     },
     "execution_count": 147,
     "metadata": {},
     "output_type": "execute_result"
    }
   ],
   "source": [
    "s.istitle()"
   ]
  },
  {
   "cell_type": "code",
   "execution_count": 148,
   "id": "b83539e1",
   "metadata": {},
   "outputs": [
    {
     "data": {
      "text/plain": [
       "b'sudh'"
      ]
     },
     "execution_count": 148,
     "metadata": {},
     "output_type": "execute_result"
    }
   ],
   "source": [
    "s.encode()"
   ]
  },
  {
   "cell_type": "code",
   "execution_count": 149,
   "id": "ab510066",
   "metadata": {},
   "outputs": [],
   "source": [
    "l=[\"sudh\", \"kumar\", 4544, 4+5j, True, 345.566]"
   ]
  },
  {
   "cell_type": "code",
   "execution_count": 150,
   "id": "2d33e2d2",
   "metadata": {},
   "outputs": [
    {
     "data": {
      "text/plain": [
       "list"
      ]
     },
     "execution_count": 150,
     "metadata": {},
     "output_type": "execute_result"
    }
   ],
   "source": [
    "type(l)"
   ]
  },
  {
   "cell_type": "code",
   "execution_count": 151,
   "id": "5be349f4",
   "metadata": {},
   "outputs": [
    {
     "data": {
      "text/plain": [
       "345.566"
      ]
     },
     "execution_count": 151,
     "metadata": {},
     "output_type": "execute_result"
    }
   ],
   "source": [
    "l[5]"
   ]
  },
  {
   "cell_type": "code",
   "execution_count": 152,
   "id": "0eebd874",
   "metadata": {},
   "outputs": [
    {
     "data": {
      "text/plain": [
       "['sudh', 'kumar', 4544, (4+5j)]"
      ]
     },
     "execution_count": 152,
     "metadata": {},
     "output_type": "execute_result"
    }
   ],
   "source": [
    "l[0:4]"
   ]
  },
  {
   "cell_type": "code",
   "execution_count": 153,
   "id": "03232453",
   "metadata": {},
   "outputs": [
    {
     "data": {
      "text/plain": [
       "'kumar'"
      ]
     },
     "execution_count": 153,
     "metadata": {},
     "output_type": "execute_result"
    }
   ],
   "source": [
    "l[-5]"
   ]
  },
  {
   "cell_type": "code",
   "execution_count": 154,
   "id": "06199232",
   "metadata": {},
   "outputs": [
    {
     "data": {
      "text/plain": [
       "['sudh', 'kumar', 4544, (4+5j)]"
      ]
     },
     "execution_count": 154,
     "metadata": {},
     "output_type": "execute_result"
    }
   ],
   "source": [
    "l[0:4]"
   ]
  },
  {
   "cell_type": "code",
   "execution_count": 155,
   "id": "3846f26a",
   "metadata": {},
   "outputs": [
    {
     "data": {
      "text/plain": [
       "['sudh', 'kumar', 4544, (4+5j), True, 345.566]"
      ]
     },
     "execution_count": 155,
     "metadata": {},
     "output_type": "execute_result"
    }
   ],
   "source": [
    "l[0:1000]"
   ]
  },
  {
   "cell_type": "code",
   "execution_count": 156,
   "id": "03738219",
   "metadata": {},
   "outputs": [
    {
     "data": {
      "text/plain": [
       "[345.566, True, (4+5j), 4544, 'kumar', 'sudh']"
      ]
     },
     "execution_count": 156,
     "metadata": {},
     "output_type": "execute_result"
    }
   ],
   "source": [
    "l[::-1]"
   ]
  },
  {
   "cell_type": "code",
   "execution_count": 157,
   "id": "6262caab",
   "metadata": {},
   "outputs": [
    {
     "data": {
      "text/plain": [
       "[345.566]"
      ]
     },
     "execution_count": 157,
     "metadata": {},
     "output_type": "execute_result"
    }
   ],
   "source": [
    "l[-1:6]"
   ]
  },
  {
   "cell_type": "code",
   "execution_count": 158,
   "id": "882bf84d",
   "metadata": {},
   "outputs": [
    {
     "data": {
      "text/plain": [
       "'sudh'"
      ]
     },
     "execution_count": 158,
     "metadata": {},
     "output_type": "execute_result"
    }
   ],
   "source": [
    "l[0]"
   ]
  },
  {
   "cell_type": "code",
   "execution_count": 159,
   "id": "4c9cfcac",
   "metadata": {},
   "outputs": [
    {
     "data": {
      "text/plain": [
       "str"
      ]
     },
     "execution_count": 159,
     "metadata": {},
     "output_type": "execute_result"
    }
   ],
   "source": [
    "type(l[0])"
   ]
  },
  {
   "cell_type": "code",
   "execution_count": 160,
   "id": "9cef7739",
   "metadata": {},
   "outputs": [
    {
     "data": {
      "text/plain": [
       "'u'"
      ]
     },
     "execution_count": 160,
     "metadata": {},
     "output_type": "execute_result"
    }
   ],
   "source": [
    "l[0][1]"
   ]
  },
  {
   "cell_type": "code",
   "execution_count": 161,
   "id": "2ba26103",
   "metadata": {},
   "outputs": [
    {
     "data": {
      "text/plain": [
       "(4+5j)"
      ]
     },
     "execution_count": 161,
     "metadata": {},
     "output_type": "execute_result"
    }
   ],
   "source": [
    "l[3]"
   ]
  },
  {
   "cell_type": "code",
   "execution_count": 162,
   "id": "be111343",
   "metadata": {},
   "outputs": [
    {
     "data": {
      "text/plain": [
       "4.0"
      ]
     },
     "execution_count": 162,
     "metadata": {},
     "output_type": "execute_result"
    }
   ],
   "source": [
    "l[3].real"
   ]
  },
  {
   "cell_type": "code",
   "execution_count": 163,
   "id": "65acbebe",
   "metadata": {},
   "outputs": [],
   "source": [
    "l1=[\"kumar\", \"sudh\", 4356]\n",
    "l2=[\"xyz\", \"pqr\", 566.54 ]\n"
   ]
  },
  {
   "cell_type": "code",
   "execution_count": 164,
   "id": "d3615ee6",
   "metadata": {},
   "outputs": [
    {
     "data": {
      "text/plain": [
       "['kumar', 'sudh', 4356, 'xyz', 'pqr', 566.54]"
      ]
     },
     "execution_count": 164,
     "metadata": {},
     "output_type": "execute_result"
    }
   ],
   "source": [
    "l1+l2"
   ]
  },
  {
   "cell_type": "code",
   "execution_count": 165,
   "id": "93190ce5",
   "metadata": {},
   "outputs": [
    {
     "ename": "TypeError",
     "evalue": "can only concatenate list (not \"str\") to list",
     "output_type": "error",
     "traceback": [
      "\u001b[1;31m---------------------------------------------------------------------------\u001b[0m",
      "\u001b[1;31mTypeError\u001b[0m                                 Traceback (most recent call last)",
      "Input \u001b[1;32mIn [165]\u001b[0m, in \u001b[0;36m<cell line: 1>\u001b[1;34m()\u001b[0m\n\u001b[1;32m----> 1\u001b[0m \u001b[43ml1\u001b[49m\u001b[38;5;241;43m+\u001b[39;49m\u001b[38;5;124;43m\"\u001b[39;49m\u001b[38;5;124;43msudh\u001b[39;49m\u001b[38;5;124;43m\"\u001b[39;49m\n",
      "\u001b[1;31mTypeError\u001b[0m: can only concatenate list (not \"str\") to list"
     ]
    }
   ],
   "source": [
    "l1+\"sudh\""
   ]
  },
  {
   "cell_type": "code",
   "execution_count": 166,
   "id": "16f49f46",
   "metadata": {},
   "outputs": [
    {
     "ename": "TypeError",
     "evalue": "int() argument must be a string, a bytes-like object or a number, not 'list'",
     "output_type": "error",
     "traceback": [
      "\u001b[1;31m---------------------------------------------------------------------------\u001b[0m",
      "\u001b[1;31mTypeError\u001b[0m                                 Traceback (most recent call last)",
      "Input \u001b[1;32mIn [166]\u001b[0m, in \u001b[0;36m<cell line: 1>\u001b[1;34m()\u001b[0m\n\u001b[1;32m----> 1\u001b[0m \u001b[38;5;28;43mint\u001b[39;49m\u001b[43m(\u001b[49m\u001b[43ml1\u001b[49m\u001b[43m)\u001b[49m\n",
      "\u001b[1;31mTypeError\u001b[0m: int() argument must be a string, a bytes-like object or a number, not 'list'"
     ]
    }
   ],
   "source": [
    "int(l1)"
   ]
  },
  {
   "cell_type": "code",
   "execution_count": 167,
   "id": "bce70294",
   "metadata": {},
   "outputs": [
    {
     "data": {
      "text/plain": [
       "['kumar', 'sudh', 4356, 'sudh']"
      ]
     },
     "execution_count": 167,
     "metadata": {},
     "output_type": "execute_result"
    }
   ],
   "source": [
    "l1+[\"sudh\"]"
   ]
  },
  {
   "cell_type": "code",
   "execution_count": 168,
   "id": "6c26b755",
   "metadata": {},
   "outputs": [
    {
     "data": {
      "text/plain": [
       "['kumar',\n",
       " 'sudh',\n",
       " 4356,\n",
       " 'kumar',\n",
       " 'sudh',\n",
       " 4356,\n",
       " 'kumar',\n",
       " 'sudh',\n",
       " 4356,\n",
       " 'kumar',\n",
       " 'sudh',\n",
       " 4356]"
      ]
     },
     "execution_count": 168,
     "metadata": {},
     "output_type": "execute_result"
    }
   ],
   "source": [
    "l1*4"
   ]
  },
  {
   "cell_type": "code",
   "execution_count": 169,
   "id": "83abb379",
   "metadata": {},
   "outputs": [
    {
     "data": {
      "text/plain": [
       "['kumar', 'sudh', 4356]"
      ]
     },
     "execution_count": 169,
     "metadata": {},
     "output_type": "execute_result"
    }
   ],
   "source": [
    "l1"
   ]
  },
  {
   "cell_type": "code",
   "execution_count": 172,
   "id": "a64457f0",
   "metadata": {},
   "outputs": [
    {
     "data": {
      "text/plain": [
       "'nikhil'"
      ]
     },
     "execution_count": 172,
     "metadata": {},
     "output_type": "execute_result"
    }
   ],
   "source": [
    "l1[0].replace(\"kumar\",\"nikhil\")"
   ]
  },
  {
   "cell_type": "code",
   "execution_count": 173,
   "id": "d6d718b2",
   "metadata": {},
   "outputs": [
    {
     "data": {
      "text/plain": [
       "['kumar', 'sudh', 4356]"
      ]
     },
     "execution_count": 173,
     "metadata": {},
     "output_type": "execute_result"
    }
   ],
   "source": [
    "l1"
   ]
  },
  {
   "cell_type": "code",
   "execution_count": 174,
   "id": "9310fc05",
   "metadata": {},
   "outputs": [
    {
     "data": {
      "text/plain": [
       "'sudh'"
      ]
     },
     "execution_count": 174,
     "metadata": {},
     "output_type": "execute_result"
    }
   ],
   "source": [
    " l[0]"
   ]
  },
  {
   "cell_type": "code",
   "execution_count": 175,
   "id": "ef0afcf4",
   "metadata": {},
   "outputs": [],
   "source": [
    "l1[0]='yourname'"
   ]
  },
  {
   "cell_type": "code",
   "execution_count": 176,
   "id": "6baa7ec7",
   "metadata": {},
   "outputs": [
    {
     "data": {
      "text/plain": [
       "['yourname', 'sudh', 4356]"
      ]
     },
     "execution_count": 176,
     "metadata": {},
     "output_type": "execute_result"
    }
   ],
   "source": [
    "l1"
   ]
  },
  {
   "cell_type": "code",
   "execution_count": 178,
   "id": "a25bd421",
   "metadata": {},
   "outputs": [
    {
     "ename": "TypeError",
     "evalue": "'str' object does not support item assignment",
     "output_type": "error",
     "traceback": [
      "\u001b[1;31m---------------------------------------------------------------------------\u001b[0m",
      "\u001b[1;31mTypeError\u001b[0m                                 Traceback (most recent call last)",
      "Input \u001b[1;32mIn [178]\u001b[0m, in \u001b[0;36m<cell line: 1>\u001b[1;34m()\u001b[0m\n\u001b[1;32m----> 1\u001b[0m l1[\u001b[38;5;241m1\u001b[39m][\u001b[38;5;241m0\u001b[39m]\u001b[38;5;241m=\u001b[39m\u001b[38;5;124m\"\u001b[39m\u001b[38;5;124mk\u001b[39m\u001b[38;5;124m\"\u001b[39m\n",
      "\u001b[1;31mTypeError\u001b[0m: 'str' object does not support item assignment"
     ]
    }
   ],
   "source": [
    "l1[1][0]=\"k\""
   ]
  },
  {
   "cell_type": "code",
   "execution_count": 180,
   "id": "4612372a",
   "metadata": {},
   "outputs": [
    {
     "data": {
      "text/plain": [
       "'kudh'"
      ]
     },
     "execution_count": 180,
     "metadata": {},
     "output_type": "execute_result"
    }
   ],
   "source": [
    "l1[1].replace(\"s\",\"k\")"
   ]
  },
  {
   "cell_type": "code",
   "execution_count": 181,
   "id": "1100a132",
   "metadata": {},
   "outputs": [
    {
     "data": {
      "text/plain": [
       "['yourname', 'sudh', 4356]"
      ]
     },
     "execution_count": 181,
     "metadata": {},
     "output_type": "execute_result"
    }
   ],
   "source": [
    "l1"
   ]
  },
  {
   "cell_type": "markdown",
   "id": "aae7f668",
   "metadata": {},
   "source": [
    "mutability\n"
   ]
  },
  {
   "cell_type": "markdown",
   "id": "284ceec2",
   "metadata": {},
   "source": [
    "list is mutable string is immutable entity\n"
   ]
  },
  {
   "cell_type": "code",
   "execution_count": 184,
   "id": "86e7b10e",
   "metadata": {},
   "outputs": [
    {
     "data": {
      "text/plain": [
       "'kumar'"
      ]
     },
     "execution_count": 184,
     "metadata": {},
     "output_type": "execute_result"
    }
   ],
   "source": [
    "l[1]"
   ]
  },
  {
   "cell_type": "code",
   "execution_count": 185,
   "id": "8a94d23d",
   "metadata": {},
   "outputs": [
    {
     "data": {
      "text/plain": [
       "['yourname', 'sudh', 4356]"
      ]
     },
     "execution_count": 185,
     "metadata": {},
     "output_type": "execute_result"
    }
   ],
   "source": [
    "l1"
   ]
  },
  {
   "cell_type": "code",
   "execution_count": 186,
   "id": "76999fb7",
   "metadata": {},
   "outputs": [
    {
     "data": {
      "text/plain": [
       "'sudh'"
      ]
     },
     "execution_count": 186,
     "metadata": {},
     "output_type": "execute_result"
    }
   ],
   "source": [
    "s"
   ]
  },
  {
   "cell_type": "code",
   "execution_count": 187,
   "id": "26ea2f52",
   "metadata": {},
   "outputs": [
    {
     "data": {
      "text/plain": [
       "['yourname', 'sudh', 4356]"
      ]
     },
     "execution_count": 187,
     "metadata": {},
     "output_type": "execute_result"
    }
   ],
   "source": [
    "l1"
   ]
  },
  {
   "cell_type": "code",
   "execution_count": 188,
   "id": "67779808",
   "metadata": {},
   "outputs": [
    {
     "data": {
      "text/plain": [
       "3"
      ]
     },
     "execution_count": 188,
     "metadata": {},
     "output_type": "execute_result"
    }
   ],
   "source": [
    "len(l1)"
   ]
  },
  {
   "cell_type": "code",
   "execution_count": 189,
   "id": "ad4aa4b9",
   "metadata": {},
   "outputs": [
    {
     "data": {
      "text/plain": [
       "True"
      ]
     },
     "execution_count": 189,
     "metadata": {},
     "output_type": "execute_result"
    }
   ],
   "source": [
    "\"sudh\" in l1"
   ]
  },
  {
   "cell_type": "code",
   "execution_count": 190,
   "id": "c1e23264",
   "metadata": {},
   "outputs": [
    {
     "data": {
      "text/plain": [
       "False"
      ]
     },
     "execution_count": 190,
     "metadata": {},
     "output_type": "execute_result"
    }
   ],
   "source": [
    "\"kumar\" in l1"
   ]
  },
  {
   "cell_type": "code",
   "execution_count": 191,
   "id": "867d8d96",
   "metadata": {},
   "outputs": [
    {
     "data": {
      "text/plain": [
       "['xyz', 'pqr', 566.54]"
      ]
     },
     "execution_count": 191,
     "metadata": {},
     "output_type": "execute_result"
    }
   ],
   "source": [
    "l2"
   ]
  },
  {
   "cell_type": "code",
   "execution_count": 192,
   "id": "c5d64a37",
   "metadata": {},
   "outputs": [],
   "source": [
    "l2.append(\"sudh\")"
   ]
  },
  {
   "cell_type": "code",
   "execution_count": 193,
   "id": "840407ee",
   "metadata": {},
   "outputs": [
    {
     "data": {
      "text/plain": [
       "['xyz', 'pqr', 566.54, 'sudh']"
      ]
     },
     "execution_count": 193,
     "metadata": {},
     "output_type": "execute_result"
    }
   ],
   "source": [
    "l2"
   ]
  },
  {
   "cell_type": "code",
   "execution_count": 194,
   "id": "bfd347bb",
   "metadata": {},
   "outputs": [
    {
     "data": {
      "text/plain": [
       "'sudh'"
      ]
     },
     "execution_count": 194,
     "metadata": {},
     "output_type": "execute_result"
    }
   ],
   "source": [
    "l2.pop()"
   ]
  },
  {
   "cell_type": "code",
   "execution_count": 195,
   "id": "25821a2a",
   "metadata": {},
   "outputs": [
    {
     "data": {
      "text/plain": [
       "566.54"
      ]
     },
     "execution_count": 195,
     "metadata": {},
     "output_type": "execute_result"
    }
   ],
   "source": [
    "l2.pop(2)"
   ]
  },
  {
   "cell_type": "code",
   "execution_count": 196,
   "id": "e94ecf40",
   "metadata": {},
   "outputs": [
    {
     "data": {
      "text/plain": [
       "['xyz', 'pqr']"
      ]
     },
     "execution_count": 196,
     "metadata": {},
     "output_type": "execute_result"
    }
   ],
   "source": [
    "l2"
   ]
  },
  {
   "cell_type": "code",
   "execution_count": 198,
   "id": "04d97740",
   "metadata": {},
   "outputs": [
    {
     "data": {
      "text/plain": [
       "'xyz'"
      ]
     },
     "execution_count": 198,
     "metadata": {},
     "output_type": "execute_result"
    }
   ],
   "source": [
    "l2.pop(0)"
   ]
  },
  {
   "cell_type": "code",
   "execution_count": 199,
   "id": "02342868",
   "metadata": {},
   "outputs": [],
   "source": [
    "l2.append(565)"
   ]
  },
  {
   "cell_type": "code",
   "execution_count": 200,
   "id": "79249ca1",
   "metadata": {},
   "outputs": [],
   "source": [
    "l2.insert(2,6)"
   ]
  },
  {
   "cell_type": "code",
   "execution_count": 201,
   "id": "e22c3314",
   "metadata": {},
   "outputs": [
    {
     "data": {
      "text/plain": [
       "['pqr', 565, 6]"
      ]
     },
     "execution_count": 201,
     "metadata": {},
     "output_type": "execute_result"
    }
   ],
   "source": [
    "l2"
   ]
  },
  {
   "cell_type": "code",
   "execution_count": 205,
   "id": "1aae4fd3",
   "metadata": {},
   "outputs": [],
   "source": [
    "l2.insert(2,[454545])"
   ]
  },
  {
   "cell_type": "code",
   "execution_count": 206,
   "id": "4596e3b4",
   "metadata": {},
   "outputs": [
    {
     "data": {
      "text/plain": [
       "['pqr', 565, [454545], 6]"
      ]
     },
     "execution_count": 206,
     "metadata": {},
     "output_type": "execute_result"
    }
   ],
   "source": [
    "l2"
   ]
  },
  {
   "cell_type": "code",
   "execution_count": 207,
   "id": "f6866f58",
   "metadata": {},
   "outputs": [
    {
     "data": {
      "text/plain": [
       "[6, [454545], 565, 'pqr']"
      ]
     },
     "execution_count": 207,
     "metadata": {},
     "output_type": "execute_result"
    }
   ],
   "source": [
    "l2[::-1]"
   ]
  },
  {
   "cell_type": "code",
   "execution_count": 208,
   "id": "c8e1b8af",
   "metadata": {},
   "outputs": [],
   "source": [
    "l2.reverse()"
   ]
  },
  {
   "cell_type": "code",
   "execution_count": 209,
   "id": "90c9583b",
   "metadata": {},
   "outputs": [
    {
     "data": {
      "text/plain": [
       "[6, [454545], 565, 'pqr']"
      ]
     },
     "execution_count": 209,
     "metadata": {},
     "output_type": "execute_result"
    }
   ],
   "source": [
    "l2"
   ]
  },
  {
   "cell_type": "code",
   "execution_count": 210,
   "id": "3e26a105",
   "metadata": {},
   "outputs": [
    {
     "data": {
      "text/plain": [
       "['yourname', 'sudh', 4356]"
      ]
     },
     "execution_count": 210,
     "metadata": {},
     "output_type": "execute_result"
    }
   ],
   "source": [
    "l1"
   ]
  },
  {
   "cell_type": "code",
   "execution_count": 211,
   "id": "4ee47b6e",
   "metadata": {},
   "outputs": [
    {
     "data": {
      "text/plain": [
       "[6, [454545], 565, 'pqr']"
      ]
     },
     "execution_count": 211,
     "metadata": {},
     "output_type": "execute_result"
    }
   ],
   "source": [
    "l2"
   ]
  },
  {
   "cell_type": "code",
   "execution_count": 214,
   "id": "9eb08de0",
   "metadata": {},
   "outputs": [
    {
     "ename": "TypeError",
     "evalue": "'int' object is not subscriptable",
     "output_type": "error",
     "traceback": [
      "\u001b[1;31m---------------------------------------------------------------------------\u001b[0m",
      "\u001b[1;31mTypeError\u001b[0m                                 Traceback (most recent call last)",
      "Input \u001b[1;32mIn [214]\u001b[0m, in \u001b[0;36m<cell line: 1>\u001b[1;34m()\u001b[0m\n\u001b[1;32m----> 1\u001b[0m \u001b[43ml2\u001b[49m\u001b[43m[\u001b[49m\u001b[38;5;241;43m2\u001b[39;49m\u001b[43m]\u001b[49m\u001b[43m[\u001b[49m\u001b[38;5;241;43m1\u001b[39;49m\u001b[43m]\u001b[49m\n",
      "\u001b[1;31mTypeError\u001b[0m: 'int' object is not subscriptable"
     ]
    }
   ],
   "source": [
    "l2[2][1]"
   ]
  },
  {
   "cell_type": "code",
   "execution_count": 217,
   "id": "673a1fa5",
   "metadata": {},
   "outputs": [
    {
     "data": {
      "text/plain": [
       "1"
      ]
     },
     "execution_count": 217,
     "metadata": {},
     "output_type": "execute_result"
    }
   ],
   "source": [
    "l2.count(\"pqr\")"
   ]
  },
  {
   "cell_type": "code",
   "execution_count": 218,
   "id": "8861ef13",
   "metadata": {},
   "outputs": [],
   "source": [
    "l2.append(\"dfkdfd\")"
   ]
  },
  {
   "cell_type": "code",
   "execution_count": 219,
   "id": "9b83cb98",
   "metadata": {},
   "outputs": [
    {
     "data": {
      "text/plain": [
       "[6, [454545], 565, 'pqr', 'dfkdfd']"
      ]
     },
     "execution_count": 219,
     "metadata": {},
     "output_type": "execute_result"
    }
   ],
   "source": [
    "l2"
   ]
  },
  {
   "cell_type": "code",
   "execution_count": 220,
   "id": "0b8a9bcb",
   "metadata": {},
   "outputs": [],
   "source": [
    "l2.append([3,5,6,9])"
   ]
  },
  {
   "cell_type": "code",
   "execution_count": 221,
   "id": "c6bfb21c",
   "metadata": {},
   "outputs": [
    {
     "data": {
      "text/plain": [
       "[6, [454545], 565, 'pqr', 'dfkdfd', [3, 5, 6, 9]]"
      ]
     },
     "execution_count": 221,
     "metadata": {},
     "output_type": "execute_result"
    }
   ],
   "source": [
    "l2"
   ]
  },
  {
   "cell_type": "code",
   "execution_count": 222,
   "id": "b4c6d88f",
   "metadata": {},
   "outputs": [],
   "source": [
    "l2.extend([6,8,8,6])"
   ]
  },
  {
   "cell_type": "code",
   "execution_count": 223,
   "id": "6671262a",
   "metadata": {},
   "outputs": [
    {
     "data": {
      "text/plain": [
       "[6, [454545], 565, 'pqr', 'dfkdfd', [3, 5, 6, 9], 6, 8, 8, 6]"
      ]
     },
     "execution_count": 223,
     "metadata": {},
     "output_type": "execute_result"
    }
   ],
   "source": [
    "l2"
   ]
  },
  {
   "cell_type": "code",
   "execution_count": null,
   "id": "4bc448a4",
   "metadata": {},
   "outputs": [],
   "source": []
  }
 ],
 "metadata": {
  "kernelspec": {
   "display_name": "Python 3 (ipykernel)",
   "language": "python",
   "name": "python3"
  },
  "language_info": {
   "codemirror_mode": {
    "name": "ipython",
    "version": 3
   },
   "file_extension": ".py",
   "mimetype": "text/x-python",
   "name": "python",
   "nbconvert_exporter": "python",
   "pygments_lexer": "ipython3",
   "version": "3.9.12"
  }
 },
 "nbformat": 4,
 "nbformat_minor": 5
}
